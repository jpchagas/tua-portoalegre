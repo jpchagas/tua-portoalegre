{
 "cells": [
  {
   "cell_type": "code",
   "execution_count": 6,
   "id": "senior-spirituality",
   "metadata": {},
   "outputs": [],
   "source": [
    "import pandas as pd\n",
    "import glob\n",
    "import os"
   ]
  },
  {
   "cell_type": "code",
   "execution_count": 8,
   "id": "cellular-valuation",
   "metadata": {},
   "outputs": [
    {
     "name": "stdout",
     "output_type": "stream",
     "text": [
      "/home/jpchagas/Projects/tua-portoalegre\n"
     ]
    }
   ],
   "source": [
    "print(os.getcwd())\n",
    "\n",
    "path = os.getcwd() + r'/resources' # use your path\n",
    "all_files = glob.glob(path + \"/*.csv\")\n",
    "\n",
    "li = []\n",
    "\n",
    "for filename in all_files:\n",
    "    df = pd.read_csv(filename, index_col=None, header=0)\n",
    "    li.append(df)\n",
    "\n",
    "frame = pd.concat(li, axis=0, ignore_index=True)"
   ]
  },
  {
   "cell_type": "code",
   "execution_count": 3,
   "id": "intelligent-forum",
   "metadata": {},
   "outputs": [],
   "source": [
    "df = pd.read_csv('/home/jpchagas/Projects/tua-portoalegre/resources/DespPorOrgaoElemento-2021-03-2018_42_01.csv')"
   ]
  },
  {
   "cell_type": "code",
   "execution_count": 4,
   "id": "functional-passing",
   "metadata": {},
   "outputs": [
    {
     "name": "stdout",
     "output_type": "stream",
     "text": [
      "   Exerc�cio        M�s  �rg�o_C�digo  \\\n",
      "0       2021  Fevereiro          7500   \n",
      "1       2021  Fevereiro          7500   \n",
      "2       2021  Fevereiro          7500   \n",
      "3       2021  Fevereiro          7500   \n",
      "\n",
      "                                          �rg�o_Nome  Categoria_C�digo  \\\n",
      "0  SECRETARIA MUNICIPAL DO MEIO AMBIENTE E  SUSTE...                 3   \n",
      "1  SECRETARIA MUNICIPAL DO MEIO AMBIENTE E  SUSTE...                 3   \n",
      "2  SECRETARIA MUNICIPAL DO MEIO AMBIENTE E  SUSTE...                 3   \n",
      "3  SECRETARIA MUNICIPAL DO MEIO AMBIENTE E  SUSTE...                 3   \n",
      "\n",
      "       Categoria_Nome  Natureza_C�digo               Natureza_Nome  \\\n",
      "0  DESPESAS CORRENTES               31  PESSOAL E ENCARGOS SOCIAIS   \n",
      "1  DESPESAS CORRENTES               31  PESSOAL E ENCARGOS SOCIAIS   \n",
      "2  DESPESAS CORRENTES               31  PESSOAL E ENCARGOS SOCIAIS   \n",
      "3  DESPESAS CORRENTES               31  PESSOAL E ENCARGOS SOCIAIS   \n",
      "\n",
      "   Elemento_C�digo                                  Elemento_Nome  \\\n",
      "0           319011  VENCIMENTOS E VANTAGENS FIXAS - PESSOAL CIVIL   \n",
      "1           319016      OUTRAS DESPESAS VARI�VEIS - PESSOAL CIVIL   \n",
      "2           319092              DESPESAS DE EXERC�CIOS ANTERIORES   \n",
      "3           319094                      INDENIZA��ES TRABALHISTAS   \n",
      "\n",
      "   Or�amento_Inicial  Or�amento_Atualizado  Despesa_Empenhada  %_Despesa_Emp.  \\\n",
      "0           26312564              26312564         4772434.21           18.14   \n",
      "1            1406458               1406458          149740.23           10.65   \n",
      "2             101323                101323           11009.88           10.87   \n",
      "3             249400                249400           19198.15            7.70   \n",
      "\n",
      "   Despesa_Liquidada  %_Despesa_Liq.  Despesa_Paga  %_Despesa_Paga  \n",
      "0         4772434.21           18.14    4772434.21           18.14  \n",
      "1          149740.23           10.65     149740.23           10.65  \n",
      "2           11009.88           10.87      11009.88           10.87  \n",
      "3           19198.15            7.70      19198.15            7.70  \n"
     ]
    }
   ],
   "source": [
    "print(df) "
   ]
  }
 ],
 "metadata": {
  "kernelspec": {
   "display_name": "Python 3",
   "language": "python",
   "name": "python3"
  },
  "language_info": {
   "codemirror_mode": {
    "name": "ipython",
    "version": 3
   },
   "file_extension": ".py",
   "mimetype": "text/x-python",
   "name": "python",
   "nbconvert_exporter": "python",
   "pygments_lexer": "ipython3",
   "version": "3.6.9"
  }
 },
 "nbformat": 4,
 "nbformat_minor": 5
}
